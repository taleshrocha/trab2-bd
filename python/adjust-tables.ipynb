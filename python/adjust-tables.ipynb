{
 "cells": [
  {
   "cell_type": "markdown",
   "metadata": {},
   "source": [
    "# CSV to SQL"
   ]
  },
  {
   "cell_type": "code",
   "execution_count": 13,
   "metadata": {
    "id": "kTyGsaEXZNz6"
   },
   "outputs": [],
   "source": [
    "import pandas as pd\n",
    "import numpy as np\n",
    "import sys"
   ]
  },
  {
   "cell_type": "markdown",
   "metadata": {},
   "source": [
    "# Function Definition"
   ]
  },
  {
   "cell_type": "code",
   "execution_count": 14,
   "metadata": {},
   "outputs": [],
   "source": [
    "def DataframeToCsv(dataframe, fileName, tableName, columns):\n",
    "    numRow = len(dataframe.index)\n",
    "    numCol = len(dataframe.columns)\n",
    "    \n",
    "    with open(fileName, 'w') as f:\n",
    "        for row in range(0, numRow):\n",
    "            print(\"INSERT INTO \" + tableName + \" \" + columns + \" VALUES (\", file=f, end=\"\")\n",
    "            for column in range(0, numCol):\n",
    "                print(\"NULL\" \n",
    "                      if ((dataframe.iat[row, column] == \"'nan'\")\n",
    "                          or (dataframe.iat[row, column] == \"—\")\n",
    "                          or (dataframe.iat[row, column] == \"'(none)'\"))\n",
    "                      else dataframe.iat[row, column].replace(\"\\n\", \"\\\\n\"), file=f, end=\"\")\n",
    "                if (column != numCol-1):\n",
    "                    print(\", \", file=f, end=\"\")\n",
    "                else:\n",
    "                    print(\");\", file=f)"
   ]
  },
  {
   "cell_type": "markdown",
   "metadata": {},
   "source": [
    "# Country"
   ]
  },
  {
   "cell_type": "code",
   "execution_count": 15,
   "metadata": {
    "id": "FOs7LRgKqYwq"
   },
   "outputs": [],
   "source": [
    "# Reads all CSVs\n",
    "country = pd.read_csv(\"raw-data/List_of_countries_and_dependencies_by_population_density.csv\")\n",
    "capital = pd.read_csv(\"raw-data/List_of_national_capitals_1.csv\")\n",
    "continents = pd.read_csv(\"raw-data/List_of_countries_by_GDP_(nominal)_1.csv\") # Get the continent of the country\n",
    "\n",
    "# Treats CSV\n",
    "continents = continents[['Country/Territory', 'UN Region']].copy()\n",
    "capital.drop(\"Notes\", axis=1, inplace=True)\n",
    "country.drop(\"Source and date\", axis=1, inplace=True)\n",
    "country.drop(\"Area.1\", axis=1, inplace=True)\n",
    "country.drop(\"Population density.1\", axis=1, inplace=True)\n",
    "country.drop(0, axis=0, inplace=True)\n",
    "\n",
    "country = country.join(capital.set_index(\"Country/Territory\"), on=\"Country, territory or dependency\")\n",
    "country = country.join(continents.set_index(\"Country/Territory\"), on=\"Country, territory or dependency\")\n",
    "\n",
    "# Format strings\n",
    "str_cols = country.select_dtypes(['object']).columns\n",
    "country[str_cols] = country[str_cols].replace(\",\", \"\", regex=True).replace(\"'\", \"''\", regex=True)\n",
    "country.update(country[[\n",
    "    \"Country, territory or dependency\",\n",
    "    \"City/Town\",\n",
    "    \"UN Region\"\n",
    "]].applymap(\"'{}'\".format))\n",
    "\n",
    "country = country.sort_values(\"Country, territory or dependency\")\n",
    "\n",
    "#country.head()"
   ]
  },
  {
   "cell_type": "markdown",
   "metadata": {},
   "source": [
    "# GDP"
   ]
  },
  {
   "cell_type": "code",
   "execution_count": 16,
   "metadata": {
    "id": "FOs7LRgKqYwq"
   },
   "outputs": [],
   "source": [
    "gdp = pd.read_csv(\"raw-data/List_of_countries_by_GDP_(nominal)_1.csv\")\n",
    "\n",
    "# Treats CSV\n",
    "gdp.drop(\"UN Region\", axis=1, inplace=True)\n",
    "gdp.drop(\"IMF.1\", axis=1, inplace=True)\n",
    "gdp.drop(\"World Bank.1\", axis=1, inplace=True)\n",
    "gdp.drop(\"United Nations.1\", axis=1, inplace=True)\n",
    "gdp.drop(0, axis=0, inplace=True)\n",
    "gdp.drop(1, axis=0, inplace=True)\n",
    "\n",
    "gdp.rename({\"IMF\" : \"2022\", \"World Bank\" : \"2021\", \"United Nations\" : \"2020\"}, axis=1, inplace=True)\n",
    "gdp.drop(\"2021\", axis=1, inplace=True)\n",
    "gdp.drop(\"2020\", axis=1, inplace=True)\n",
    "str_cols = gdp.select_dtypes([\"object\"]).columns\n",
    "gdp[str_cols] = gdp[str_cols].replace(\",\", \"\", regex=True)\n",
    "\n",
    "gdp.update(gdp[[\"Country/Territory\"]].applymap(\"'{}'\".format))\n",
    "gdp = gdp.sort_values(\"Country/Territory\")\n",
    "\n",
    "#gdp.head()"
   ]
  },
  {
   "cell_type": "markdown",
   "metadata": {},
   "source": [
    "# Head of State"
   ]
  },
  {
   "cell_type": "code",
   "execution_count": 17,
   "metadata": {
    "id": "FOs7LRgKqYwq"
   },
   "outputs": [
    {
     "name": "stderr",
     "output_type": "stream",
     "text": [
      "/tmp/ipykernel_43338/1527354819.py:8: FutureWarning: The frame.append method is deprecated and will be removed from pandas in a future version. Use pandas.concat instead.\n",
      "  headState = headState.append(headState2)\n",
      "/tmp/ipykernel_43338/1527354819.py:9: FutureWarning: The frame.append method is deprecated and will be removed from pandas in a future version. Use pandas.concat instead.\n",
      "  headState = headState.append(headState3)\n"
     ]
    },
    {
     "data": {
      "text/html": [
       "<div>\n",
       "<style scoped>\n",
       "    .dataframe tbody tr th:only-of-type {\n",
       "        vertical-align: middle;\n",
       "    }\n",
       "\n",
       "    .dataframe tbody tr th {\n",
       "        vertical-align: top;\n",
       "    }\n",
       "\n",
       "    .dataframe thead th {\n",
       "        text-align: right;\n",
       "    }\n",
       "</style>\n",
       "<table border=\"1\" class=\"dataframe\">\n",
       "  <thead>\n",
       "    <tr style=\"text-align: right;\">\n",
       "      <th></th>\n",
       "      <th>State</th>\n",
       "      <th>Head of state</th>\n",
       "    </tr>\n",
       "  </thead>\n",
       "  <tbody>\n",
       "    <tr>\n",
       "      <th>0</th>\n",
       "      <td>'Abkhazia'</td>\n",
       "      <td>'President – Aslan Bzhania'</td>\n",
       "    </tr>\n",
       "    <tr>\n",
       "      <th>0</th>\n",
       "      <td>'Afghanistan'</td>\n",
       "      <td>'Supreme Leader – Hibatullah Akhundzada'</td>\n",
       "    </tr>\n",
       "    <tr>\n",
       "      <th>1</th>\n",
       "      <td>'Albania'</td>\n",
       "      <td>'President – Bajram Begaj'</td>\n",
       "    </tr>\n",
       "    <tr>\n",
       "      <th>2</th>\n",
       "      <td>'Algeria'</td>\n",
       "      <td>'President – Abdelmadjid Tebboune'</td>\n",
       "    </tr>\n",
       "    <tr>\n",
       "      <th>3</th>\n",
       "      <td>'Andorra'</td>\n",
       "      <td>'Episcopal Co-Prince – Joan Enric Vives i Sicí...</td>\n",
       "    </tr>\n",
       "  </tbody>\n",
       "</table>\n",
       "</div>"
      ],
      "text/plain": [
       "           State                                      Head of state\n",
       "0     'Abkhazia'                        'President – Aslan Bzhania'\n",
       "0  'Afghanistan'           'Supreme Leader – Hibatullah Akhundzada'\n",
       "1      'Albania'                         'President – Bajram Begaj'\n",
       "2      'Algeria'                 'President – Abdelmadjid Tebboune'\n",
       "3      'Andorra'  'Episcopal Co-Prince – Joan Enric Vives i Sicí..."
      ]
     },
     "execution_count": 17,
     "metadata": {},
     "output_type": "execute_result"
    }
   ],
   "source": [
    "headState = pd.read_csv(\"raw-data/List_of_current_heads_of_state_and_government_1.csv\")\n",
    "headState2 = pd.read_csv(\"raw-data/List_of_current_heads_of_state_and_government_2.csv\")\n",
    "headState3 = pd.read_csv(\"raw-data/List_of_current_heads_of_state_and_government_3.csv\")\n",
    "\n",
    "# Treats CSV\n",
    "headState2.drop(\"Associated with\", axis=1, inplace=True)\n",
    "headState3.drop(\"Also claimed by\", axis=1, inplace=True)\n",
    "headState = headState.append(headState2)\n",
    "headState = headState.append(headState3)\n",
    "headState.drop(\"Head of government\", axis=1, inplace=True)\n",
    "\n",
    "str_cols = headState.select_dtypes([\"object\"]).columns\n",
    "headState[str_cols] = headState[str_cols].replace(\"'\", \"''\", regex=True).applymap(\"'{}'\".format)\n",
    "\n",
    "headState = headState.sort_values(\"State\")\n",
    "\n",
    "headState.head()"
   ]
  },
  {
   "cell_type": "markdown",
   "metadata": {},
   "source": [
    "# Language"
   ]
  },
  {
   "cell_type": "code",
   "execution_count": 18,
   "metadata": {},
   "outputs": [],
   "source": [
    "language = pd.read_csv(\"raw-data/List_of_official_languages_by_country_and_territory_1.csv\")\n",
    "\n",
    "# Treats CSV\n",
    "language = language[[\"Country/Region\", \"Official language\"]].copy()\n",
    "\n",
    "str_cols = language.select_dtypes([\"object\"]).columns\n",
    "language[str_cols] = language[str_cols].replace(\"'\", \"''\", regex=True).applymap(\"'{}'\".format)\n",
    "\n",
    "#language.head()"
   ]
  },
  {
   "cell_type": "markdown",
   "metadata": {},
   "source": [
    "# Religion"
   ]
  },
  {
   "cell_type": "code",
   "execution_count": 19,
   "metadata": {},
   "outputs": [],
   "source": [
    "religion = pd.read_csv(\"raw-data/Religions_by_country.csv\")\n",
    "\n",
    "# Treats CSV\n",
    "religion.drop(\"Population\", axis=1, inplace=True)\n",
    "religion.drop(\"Christian.1\", axis=1, inplace=True)\n",
    "religion.drop(\"Muslim.1\", axis=1, inplace=True)\n",
    "religion.drop(\"Irreligion.1\", axis=1, inplace=True)\n",
    "religion.drop(\"Hindu.1\", axis=1, inplace=True)\n",
    "religion.drop(\"Buddhist.1\", axis=1, inplace=True)\n",
    "religion.drop(\"Folk religion.1\", axis=1, inplace=True)\n",
    "religion.drop(\"Other religion.1\", axis=1, inplace=True)\n",
    "religion.drop(\"Jewish.1\", axis=1, inplace=True)\n",
    "\n",
    "str_cols = religion.select_dtypes([\"object\"]).columns\n",
    "religion[str_cols] = religion[str_cols].replace(\",\", \"\", regex=True)\n",
    "religion.update(religion[[\"Country\"]].applymap(\"'{}'\".format))\n",
    "\n",
    "#religion.head()"
   ]
  },
  {
   "cell_type": "markdown",
   "metadata": {},
   "source": [
    "# Currency"
   ]
  },
  {
   "cell_type": "code",
   "execution_count": 20,
   "metadata": {
    "id": "FOs7LRgKqYwq"
   },
   "outputs": [],
   "source": [
    "currency = pd.read_csv(\"raw-data/List_of_circulating_currencies_1.csv\")\n",
    "\n",
    "# Treats CSV\n",
    "str_cols = currency.select_dtypes(['object']).columns\n",
    "currency[str_cols] = currency[str_cols].replace(\"'\", \"''\", regex=True)\n",
    "currency.update(currency[[\n",
    "   \"State or territory\",\n",
    "    \"Currency\",\n",
    "    \"Symbol or\\nAbbrev.\",\n",
    "    \"ISO code\", \n",
    "    \"Fractional\\nunit\"\n",
    "]].applymap(\"'{}'\".format))\n",
    "\n",
    "#currency.head()"
   ]
  },
  {
   "cell_type": "markdown",
   "metadata": {},
   "source": [
    "# Funcion Calls"
   ]
  },
  {
   "cell_type": "code",
   "execution_count": 21,
   "metadata": {},
   "outputs": [],
   "source": [
    "DataframeToCsv(country, \"cooked-data/country.sql\", \"country\", \"()\")\n",
    "DataframeToCsv(gdp, \"cooked-data/gdp.sql\", \"gdp\", \"()\")\n",
    "DataframeToCsv(headState, \"cooked-data/head_of_state.sql\", \"head_of_state\", \"()\")\n",
    "DataframeToCsv(language, \"cooked-data/language.sql\", \"language\", \"()\")\n",
    "DataframeToCsv(religion, \"cooked-data/religion.sql\", \"religion\", \"()\")\n",
    "DataframeToCsv(currency, \"cooked-data/currency.sql\", \"currency\", \"()\")"
   ]
  }
 ],
 "metadata": {
  "colab": {
   "collapsed_sections": [],
   "include_colab_link": true,
   "provenance": []
  },
  "kernelspec": {
   "display_name": "Python 3 (ipykernel)",
   "language": "python",
   "name": "python3"
  },
  "language_info": {
   "codemirror_mode": {
    "name": "ipython",
    "version": 3
   },
   "file_extension": ".py",
   "mimetype": "text/x-python",
   "name": "python",
   "nbconvert_exporter": "python",
   "pygments_lexer": "ipython3",
   "version": "3.10.8"
  }
 },
 "nbformat": 4,
 "nbformat_minor": 1
}
