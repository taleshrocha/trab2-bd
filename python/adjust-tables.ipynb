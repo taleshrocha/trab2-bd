{
 "cells": [
  {
   "cell_type": "markdown",
   "metadata": {},
   "source": [
    "# CSV to SQL"
   ]
  },
  {
   "cell_type": "code",
   "execution_count": 284,
   "metadata": {
    "id": "kTyGsaEXZNz6"
   },
   "outputs": [],
   "source": [
    "import pandas as pd\n",
    "import numpy as np\n",
    "import sys"
   ]
  },
  {
   "cell_type": "code",
   "execution_count": 285,
   "metadata": {},
   "outputs": [],
   "source": [
    "def DataframeToCsv(dataframe, fileName, tableName, columns):\n",
    "    numRow = len(dataframe.index)\n",
    "    numCol = len(dataframe.columns)\n",
    "    with open(fileName, 'w') as f:\n",
    "        for row in range(0, numRow):\n",
    "            print(\"INSERT INTO \" + tableName + \" \" + columns + \" VALUES (\", file=f, end=\"\")\n",
    "            for column in range(0, numCol):\n",
    "                print(\"NULL\" if (pais.iat[row, column] == \"'nan'\") else pais.iat[row, column], file=f, end=\"\")\n",
    "                if (column != numCol-1):\n",
    "                    print(\", \", file=f, end=\"\")\n",
    "                else:\n",
    "                    print(\");\", file=f)"
   ]
  },
  {
   "cell_type": "code",
   "execution_count": 286,
   "metadata": {
    "id": "FOs7LRgKqYwq"
   },
   "outputs": [
    {
     "data": {
      "text/plain": [
       "nome                  'Gibraltar (BOT)'\n",
       "populacao                         32669\n",
       "area                                  6\n",
       "Population density                 5445\n",
       "capital                           'nan'\n",
       "Name: 5, dtype: object"
      ]
     },
     "execution_count": 286,
     "metadata": {},
     "output_type": "execute_result"
    }
   ],
   "source": [
    "# Reads CSV\n",
    "pais = pd.read_csv(\"raw-data/pais.csv\")\n",
    "capital = pd.read_csv(\"raw-data/List_of_national_capitals_1.csv\")\n",
    "# Treats CSV\n",
    "pais.drop(\"Source and date\", axis=1, inplace=True)\n",
    "pais.drop(\"Area.1\", axis=1, inplace=True)\n",
    "pais.drop(\"Population density.1\", axis=1, inplace=True)\n",
    "pais.drop(0, axis=0, inplace=True)\n",
    "pais.rename({\"Country, territory or dependency\" : \"nome\", \"Population\" : \"populacao\", \"Area\" : \"area\"}, axis=1, inplace=True)\n",
    "pais = pais.sort_values(\"nome\")\n",
    "capital.drop(\"Notes\", axis=1, inplace=True)\n",
    "capital.rename({\"Country/Territory\" : \"nome\", \"City/Town\" : \"capital\"}, axis=1, inplace=True)\n",
    "capital.sort_values(\"nome\", inplace=True)\n",
    "pais = pais.join(capital.set_index('nome'), on='nome')\n",
    "pais['capital'] = pais['capital'].str.replace(\"'\", \"''\")\n",
    "pais.update(pais[['nome', 'capital']].applymap(\"'{}'\".format))\n",
    "pais['populacao'] = pais['populacao'].str.replace(\",\", \"\")\n",
    "pais['area'] = pais['area'].str.replace(\",\", \"\")\n",
    "pais['Population density'] = pais['Population density'].str.replace(\",\", \"\")\n",
    "pais.iloc[88]"
   ]
  },
  {
   "cell_type": "code",
   "execution_count": 287,
   "metadata": {},
   "outputs": [],
   "source": [
    "DataframeToCsv(pais, \"cooked-data/pais.sql\", \"Pais\", \"(nome, populacao, area, densidadePop, capital)\")"
   ]
  }
 ],
 "metadata": {
  "colab": {
   "collapsed_sections": [],
   "include_colab_link": true,
   "provenance": []
  },
  "kernelspec": {
   "display_name": "Python 3 (ipykernel)",
   "language": "python",
   "name": "python3"
  },
  "language_info": {
   "codemirror_mode": {
    "name": "ipython",
    "version": 3
   },
   "file_extension": ".py",
   "mimetype": "text/x-python",
   "name": "python",
   "nbconvert_exporter": "python",
   "pygments_lexer": "ipython3",
   "version": "3.10.8"
  }
 },
 "nbformat": 4,
 "nbformat_minor": 1
}
