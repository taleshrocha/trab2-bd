{
 "cells": [
  {
   "cell_type": "markdown",
   "metadata": {},
   "source": [
    "# CSV to SQL"
   ]
  },
  {
   "cell_type": "code",
   "execution_count": 1,
   "metadata": {
    "id": "kTyGsaEXZNz6"
   },
   "outputs": [],
   "source": [
    "import pandas as pd\n",
    "import numpy as np\n",
    "import sys"
   ]
  },
  {
   "cell_type": "code",
   "execution_count": 11,
   "metadata": {
    "id": "FOs7LRgKqYwq"
   },
   "outputs": [
    {
     "data": {
      "text/html": [
       "<div>\n",
       "<style scoped>\n",
       "    .dataframe tbody tr th:only-of-type {\n",
       "        vertical-align: middle;\n",
       "    }\n",
       "\n",
       "    .dataframe tbody tr th {\n",
       "        vertical-align: top;\n",
       "    }\n",
       "\n",
       "    .dataframe thead th {\n",
       "        text-align: right;\n",
       "    }\n",
       "</style>\n",
       "<table border=\"1\" class=\"dataframe\">\n",
       "  <thead>\n",
       "    <tr style=\"text-align: right;\">\n",
       "      <th></th>\n",
       "      <th>Pais</th>\n",
       "      <th>populacao</th>\n",
       "      <th>area</th>\n",
       "      <th>Population density</th>\n",
       "    </tr>\n",
       "  </thead>\n",
       "  <tbody>\n",
       "    <tr>\n",
       "      <th>1</th>\n",
       "      <td>Macau</td>\n",
       "      <td>686,607</td>\n",
       "      <td>33</td>\n",
       "      <td>20,806</td>\n",
       "    </tr>\n",
       "    <tr>\n",
       "      <th>2</th>\n",
       "      <td>Monaco</td>\n",
       "      <td>36,686</td>\n",
       "      <td>2</td>\n",
       "      <td>18,343</td>\n",
       "    </tr>\n",
       "    <tr>\n",
       "      <th>3</th>\n",
       "      <td>Singapore</td>\n",
       "      <td>5,453,600</td>\n",
       "      <td>716</td>\n",
       "      <td>7,617</td>\n",
       "    </tr>\n",
       "    <tr>\n",
       "      <th>4</th>\n",
       "      <td>Hong Kong</td>\n",
       "      <td>7,494,578</td>\n",
       "      <td>1,104</td>\n",
       "      <td>6,789</td>\n",
       "    </tr>\n",
       "    <tr>\n",
       "      <th>5</th>\n",
       "      <td>Gibraltar (BOT)</td>\n",
       "      <td>32,669</td>\n",
       "      <td>6</td>\n",
       "      <td>5,445</td>\n",
       "    </tr>\n",
       "  </tbody>\n",
       "</table>\n",
       "</div>"
      ],
      "text/plain": [
       "              Pais  populacao   area Population density\n",
       "1            Macau    686,607     33             20,806\n",
       "2           Monaco     36,686      2             18,343\n",
       "3        Singapore  5,453,600    716              7,617\n",
       "4        Hong Kong  7,494,578  1,104              6,789\n",
       "5  Gibraltar (BOT)     32,669      6              5,445"
      ]
     },
     "execution_count": 11,
     "metadata": {},
     "output_type": "execute_result"
    }
   ],
   "source": [
    "# Reads CSV\n",
    "pais = pd.read_csv(\"raw-data/pais.csv\")\n",
    "# Treats CSV\n",
    "pais.drop(\"Source and date\", axis=1, inplace=True)\n",
    "pais.drop(\"Area.1\", axis=1, inplace=True)\n",
    "pais.drop(\"Population density.1\", axis=1, inplace=True)\n",
    "pais.drop(0, axis=0, inplace=True)\n",
    "pais.rename({\"Country, territory or dependency\" : \"Pais\", \"Population\" : \"populacao\", \"Area\" : \"area\"}, axis=1, inplace=True)\n",
    "pais.head()"
   ]
  },
  {
   "cell_type": "code",
   "execution_count": null,
   "metadata": {},
   "outputs": [],
   "source": [
    "print(\"Creating inserts to Pais table.\")\n",
    "\n",
    "with open(\"cooked-data/pais.sql\", 'w') as f:\n",
    "    print(\"Hello\", file=f)"
   ]
  }
 ],
 "metadata": {
  "colab": {
   "collapsed_sections": [],
   "include_colab_link": true,
   "provenance": []
  },
  "kernelspec": {
   "display_name": "Python 3 (ipykernel)",
   "language": "python",
   "name": "python3"
  },
  "language_info": {
   "codemirror_mode": {
    "name": "ipython",
    "version": 3
   },
   "file_extension": ".py",
   "mimetype": "text/x-python",
   "name": "python",
   "nbconvert_exporter": "python",
   "pygments_lexer": "ipython3",
   "version": "3.10.8"
  }
 },
 "nbformat": 4,
 "nbformat_minor": 1
}
