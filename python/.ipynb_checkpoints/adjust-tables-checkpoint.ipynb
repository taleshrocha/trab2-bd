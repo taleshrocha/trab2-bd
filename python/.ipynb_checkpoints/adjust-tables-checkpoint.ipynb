{
 "cells": [
  {
   "cell_type": "markdown",
   "metadata": {},
   "source": [
    "# CSV to SQL"
   ]
  },
  {
   "cell_type": "code",
   "execution_count": 103,
   "metadata": {
    "id": "kTyGsaEXZNz6"
   },
   "outputs": [],
   "source": [
    "import pandas as pd\n",
    "import numpy as np\n",
    "import sys"
   ]
  },
  {
   "cell_type": "code",
   "execution_count": 104,
   "metadata": {},
   "outputs": [],
   "source": [
    "def DataframeToCsv(dataframe, fileName, tableName, columns):\n",
    "    numRow = len(dataframe.index)\n",
    "    numCol = len(dataframe.columns)\n",
    "    \n",
    "    with open(fileName, 'w') as f:\n",
    "        for row in range(0, numRow):\n",
    "            print(\"INSERT INTO \" + tableName + \" \" + columns + \" VALUES (\", file=f, end=\"\")\n",
    "            for column in range(0, numCol):\n",
    "                print(\"NULL\" \n",
    "                      if ((dataframe.iat[row, column] == \"'nan'\")\n",
    "                          or (dataframe.iat[row, column] == \"—\"))\n",
    "                      else dataframe.iat[row, column], file=f, end=\"\")\n",
    "                if (column != numCol-1):\n",
    "                    print(\", \", file=f, end=\"\")\n",
    "                else:\n",
    "                    print(\");\", file=f)"
   ]
  },
  {
   "cell_type": "code",
   "execution_count": 105,
   "metadata": {
    "id": "FOs7LRgKqYwq"
   },
   "outputs": [],
   "source": [
    "# PAIS TABLE\n",
    "# Reads all CSVs\n",
    "pais = pd.read_csv(\"raw-data/pais.csv\")\n",
    "capital = pd.read_csv(\"raw-data/List_of_national_capitals_1.csv\")\n",
    "# So I can get the continent\n",
    "continents = pd.read_csv(\"raw-data/List_of_countries_by_GDP_(nominal)_1.csv\")\n",
    "\n",
    "# Treats CSV\n",
    "continents = continents[['Country/Territory', 'UN Region']].copy()\n",
    "pais.drop(\"Source and date\", axis=1, inplace=True)\n",
    "pais.drop(\"Area.1\", axis=1, inplace=True)\n",
    "pais.drop(\"Population density.1\", axis=1, inplace=True)\n",
    "pais.drop(0, axis=0, inplace=True)\n",
    "pais.rename({\"Country, territory or dependency\" : \"nome\", \"Population\" : \"populacao\", \"Area\" : \"area\"}, axis=1, inplace=True)\n",
    "pais = pais.sort_values(\"nome\")\n",
    "capital.drop(\"Notes\", axis=1, inplace=True)\n",
    "capital.rename({\"Country/Territory\" : \"nome\", \"City/Town\" : \"capital\"}, axis=1, inplace=True)\n",
    "capital.sort_values(\"nome\", inplace=True)\n",
    "pais = pais.join(capital.set_index('nome'), on='nome')\n",
    "pais = pais.join(continents.set_index('Country/Territory'), on='nome')\n",
    "pais['capital'] = pais['capital'].str.replace(\"'\", \"''\")\n",
    "pais['populacao'] = pais['populacao'].str.replace(\",\", \"\")\n",
    "pais['area'] = pais['area'].str.replace(\",\", \"\")\n",
    "pais['Population density'] = pais['Population density'].str.replace(\",\", \"\")\n",
    "pais.rename({\"UN Region\" : \"continente\"}, axis=1, inplace=True)\n",
    "pais.update(pais[['nome', 'capital', 'continente']].applymap(\"'{}'\".format))"
   ]
  },
  {
   "cell_type": "code",
   "execution_count": 106,
   "metadata": {
    "id": "FOs7LRgKqYwq"
   },
   "outputs": [
    {
     "data": {
      "text/html": [
       "<div>\n",
       "<style scoped>\n",
       "    .dataframe tbody tr th:only-of-type {\n",
       "        vertical-align: middle;\n",
       "    }\n",
       "\n",
       "    .dataframe tbody tr th {\n",
       "        vertical-align: top;\n",
       "    }\n",
       "\n",
       "    .dataframe thead th {\n",
       "        text-align: right;\n",
       "    }\n",
       "</style>\n",
       "<table border=\"1\" class=\"dataframe\">\n",
       "  <thead>\n",
       "    <tr style=\"text-align: right;\">\n",
       "      <th></th>\n",
       "      <th>pais</th>\n",
       "      <th>2022</th>\n",
       "      <th>2021</th>\n",
       "      <th>2020</th>\n",
       "    </tr>\n",
       "  </thead>\n",
       "  <tbody>\n",
       "    <tr>\n",
       "      <th>120</th>\n",
       "      <td>'Afghanistan'</td>\n",
       "      <td>20136</td>\n",
       "      <td>20116</td>\n",
       "      <td>19793</td>\n",
       "    </tr>\n",
       "    <tr>\n",
       "      <th>126</th>\n",
       "      <td>'Albania'</td>\n",
       "      <td>18256</td>\n",
       "      <td>18260</td>\n",
       "      <td>14910</td>\n",
       "    </tr>\n",
       "    <tr>\n",
       "      <th>58</th>\n",
       "      <td>'Algeria'</td>\n",
       "      <td>187155</td>\n",
       "      <td>167983</td>\n",
       "      <td>147689</td>\n",
       "    </tr>\n",
       "    <tr>\n",
       "      <th>205</th>\n",
       "      <td>'American Samoa'</td>\n",
       "      <td>—</td>\n",
       "      <td>709</td>\n",
       "      <td>—</td>\n",
       "    </tr>\n",
       "    <tr>\n",
       "      <th>176</th>\n",
       "      <td>'Andorra'</td>\n",
       "      <td>3302</td>\n",
       "      <td>3330</td>\n",
       "      <td>2864</td>\n",
       "    </tr>\n",
       "  </tbody>\n",
       "</table>\n",
       "</div>"
      ],
      "text/plain": [
       "                 pais    2022    2021    2020\n",
       "120     'Afghanistan'   20136   20116   19793\n",
       "126         'Albania'   18256   18260   14910\n",
       "58          'Algeria'  187155  167983  147689\n",
       "205  'American Samoa'       —     709       —\n",
       "176         'Andorra'    3302    3330    2864"
      ]
     },
     "execution_count": 106,
     "metadata": {},
     "output_type": "execute_result"
    }
   ],
   "source": [
    "# PIB TABLE\n",
    "pib = pd.read_csv(\"raw-data/List_of_countries_by_GDP_(nominal)_1.csv\")\n",
    "# Treats CSV\n",
    "pib.drop(\"UN Region\", axis=1, inplace=True)\n",
    "pib.drop(\"IMF.1\", axis=1, inplace=True)\n",
    "pib.drop(\"World Bank.1\", axis=1, inplace=True)\n",
    "pib.drop(\"United Nations.1\", axis=1, inplace=True)\n",
    "pib.drop(0, axis=0, inplace=True)\n",
    "pib.drop(1, axis=0, inplace=True)\n",
    "pib.rename({\"Country/Territory\" : \"pais\", \"IMF\" : \"2022\", \"World Bank\" : \"2021\", \"United Nations\" : \"2020\"}, axis=1, inplace=True)\n",
    "pib['2022'] = pib['2022'].str.replace(\",\", \"\")\n",
    "pib['2021'] = pib['2021'].str.replace(\",\", \"\")\n",
    "pib['2020'] = pib['2020'].str.replace(\",\", \"\")\n",
    "pib.update(pib[['pais']].applymap(\"'{}'\".format))\n",
    "pib = pib.sort_values(\"pais\")\n",
    "pib.head()"
   ]
  },
  {
   "cell_type": "code",
   "execution_count": 107,
   "metadata": {},
   "outputs": [],
   "source": [
    "DataframeToCsv(pais, \"cooked-data/pais.sql\", \"Pais\", \"(nome, populacao, area, densidadePop, capital)\")\n",
    "DataframeToCsv(pib, \"cooked-data/pib.sql\", \"PIB\", \"(nomePais, pib2022, pib2021, pib2020)\")"
   ]
  }
 ],
 "metadata": {
  "colab": {
   "collapsed_sections": [],
   "include_colab_link": true,
   "provenance": []
  },
  "kernelspec": {
   "display_name": "Python 3 (ipykernel)",
   "language": "python",
   "name": "python3"
  },
  "language_info": {
   "codemirror_mode": {
    "name": "ipython",
    "version": 3
   },
   "file_extension": ".py",
   "mimetype": "text/x-python",
   "name": "python",
   "nbconvert_exporter": "python",
   "pygments_lexer": "ipython3",
   "version": "3.10.8"
  }
 },
 "nbformat": 4,
 "nbformat_minor": 1
}
